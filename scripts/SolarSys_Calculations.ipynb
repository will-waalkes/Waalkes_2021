{
 "cells": [
  {
   "cell_type": "code",
   "execution_count": 3,
   "metadata": {},
   "outputs": [],
   "source": [
    "import astropy.constants as c\n",
    "import astropy.units as u\n",
    "from astropy.io import ascii\n",
    "import numpy as np\n",
    "from astropy.table import Table, Column"
   ]
  },
  {
   "cell_type": "code",
   "execution_count": 12,
   "metadata": {},
   "outputs": [
    {
     "name": "stdout",
     "output_type": "stream",
     "text": [
      "970.0521942496633 J(1/2) / kg(1/2)\n"
     ]
    }
   ],
   "source": [
    "v_therm = np.sqrt(3*(c.k_B*38*u.K/c.m_p))\n",
    "print(v_therm)"
   ]
  },
  {
   "cell_type": "code",
   "execution_count": 15,
   "metadata": {},
   "outputs": [],
   "source": [
    "data = Table({'Planet': ['Mercury','Venus','Earth','Mars','Jupiter','Saturn','Uranus','Neptune','Pluto'],\n",
    "              'R_earth': [0.38, 0.95, 1, 0.53, 11.2, 9.45, 4.01, 3.88, 0.19],\n",
    "              'Vesc': [4.3, 10.4, 11.2, 5, 59.5,35.5,21.3,23.5,1.2],\n",
    "              'Vtherm':[3.3,2.4,2.5,2.3,1.7,1.4,1.2,1.1,1.0],\n",
    "              'Insolation':[6.7,1.9,1,0.4,0.04,0.01,0.003,0.001,0.0006]},\n",
    "             names=['Planet', 'R_earth', 'Vesc', 'Vtherm', 'Insolation'])\n",
    "ascii.write(data,'SolarSys_data.dat',overwrite=True)"
   ]
  },
  {
   "cell_type": "code",
   "execution_count": null,
   "metadata": {},
   "outputs": [],
   "source": []
  }
 ],
 "metadata": {
  "kernelspec": {
   "display_name": "Python 3",
   "language": "python",
   "name": "python3"
  },
  "language_info": {
   "codemirror_mode": {
    "name": "ipython",
    "version": 3
   },
   "file_extension": ".py",
   "mimetype": "text/x-python",
   "name": "python",
   "nbconvert_exporter": "python",
   "pygments_lexer": "ipython3",
   "version": "3.7.3"
  }
 },
 "nbformat": 4,
 "nbformat_minor": 4
}
