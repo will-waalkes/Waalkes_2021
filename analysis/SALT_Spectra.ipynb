{
 "cells": [
  {
   "cell_type": "code",
   "execution_count": 31,
   "metadata": {},
   "outputs": [],
   "source": [
    "%matplotlib inline\n",
    "import matplotlib.pyplot as plt\n",
    "import numpy as np\n",
    "import astropy.io.fits as fits"
   ]
  },
  {
   "cell_type": "code",
   "execution_count": 137,
   "metadata": {},
   "outputs": [],
   "source": [
    "#hdu = fits.open('SALT/TOI237/mbgphR201908090023_u1we.fits')\n",
    "hdu = fits.open('SALT/TOI122/mbgphR201908090019_u1we.fits')\n",
    "flux = hdu[14].data\n",
    "w0 = np.float(hdu[14].header['CRVAL1'])\n",
    "dw = np.float(hdu[14].header['CDELT1'])\n",
    "wave = np.arange(flux.size)*dw+w0"
   ]
  },
  {
   "cell_type": "code",
   "execution_count": 123,
   "metadata": {},
   "outputs": [
    {
     "data": {
      "text/plain": [
       "6591.78249135"
      ]
     },
     "execution_count": 123,
     "metadata": {},
     "output_type": "execute_result"
    }
   ],
   "source": [
    "wave[2500]"
   ]
  },
  {
   "cell_type": "code",
   "execution_count": 126,
   "metadata": {},
   "outputs": [
    {
     "data": {
      "text/plain": [
       "3.3980647e-05"
      ]
     },
     "execution_count": 126,
     "metadata": {},
     "output_type": "execute_result"
    }
   ],
   "source": [
    "np.mean(flux[1300:2500])"
   ]
  },
  {
   "cell_type": "code",
   "execution_count": 130,
   "metadata": {},
   "outputs": [
    {
     "name": "stdout",
     "output_type": "stream",
     "text": [
      "177.00208\n"
     ]
    }
   ],
   "source": [
    "EW = np.sum(1-(flux[1733:1920]/3.846e-5)*dw)\n",
    "print(EW)"
   ]
  },
  {
   "cell_type": "code",
   "execution_count": 113,
   "metadata": {},
   "outputs": [
    {
     "data": {
      "image/png": "[encoded data removed]",
      "text/plain": [
       "<Figure size 432x288 with 1 Axes>"
      ]
     },
     "metadata": {
      "needs_background": "light"
     },
     "output_type": "display_data"
    }
   ],
   "source": [
    "plt.plot(wave,flux)\n",
    "plt.axvline(6562.801)\n",
    "#plt.xlim(6561.5,6563.5)\n",
    "plt.xlim(6500,6625)\n",
    "plt.ylim(-0.0001,0.001)\n",
    "plt.title('H alpha emission from TOI 122 from SALT')\n",
    "plt.xlabel('Wavelength (Angstrom)')\n",
    "plt.savefig('TOI_122_Halpha.pdf')"
   ]
  },
  {
   "cell_type": "code",
   "execution_count": 134,
   "metadata": {},
   "outputs": [],
   "source": [
    "# sum up over a region, with fractions of a pixel\n",
    "# wavea = blue edge; waveb = red edge\n",
    "# c1 and c2 are the edges of the region of interest\n",
    "# mean returns the average of the pixels rather than the sum\n",
    "# check makes plots\n",
    "\n",
    "def fracsum(wavea, waveb, flux, c1, c2, mean=False, check=False):\n",
    "  \n",
    "    pixwidth = waveb-wavea  \n",
    "    fracused = np.zeros_like(flux)\n",
    "  \n",
    "    # make sure wide enough\n",
    "    if (wavea[0]>=c1) or (waveb[-1]<=c2):\n",
    "      return None\n",
    "    \n",
    "    # whole pixels\n",
    "    wholeind, = np.where( (wavea>=c1) & (waveb<=c2) )\n",
    "    if len(wholeind) == 0:\n",
    "      print(\"WARNING fracsum: no whole pixels\")\n",
    "    fracused[wholeind] = 1.\n",
    "    \n",
    "    # partial pixels\n",
    "    lowind, = np.where( (wavea<c1) & (waveb>c1) )\n",
    "    uppind, = np.where( (wavea<c2) & (waveb>c2) )\n",
    "    assert(len(lowind) <= 1)\n",
    "    assert(len(uppind) <= 1)\n",
    "\n",
    "    if (len(lowind) == 1) and (not (lowind in wholeind)):\n",
    "      fracused[lowind] = (waveb[lowind]-c1)/pixwidth[lowind]\n",
    "    if (len(uppind) == 1) and (not np.any(uppind in wholeind)):\n",
    "      fracused[uppind] = (c2-wavea[uppind])/pixwidth[uppind]\n",
    "\n",
    "    if check:\n",
    "      plt.scatter(wavea, flux)\n",
    "      plt.scatter(waveb, flux)\n",
    "      plt.plot([c1,c1],[0,10])\n",
    "      plt.plot([c2,c2],[0,10])\n",
    "      print(np.arange(0,len(flux)))\n",
    "      print(fracused)\n",
    "      print(flux)\n",
    "    \n",
    "    integral = np.sum(flux*fracused*pixwidth)\n",
    "    if mean:\n",
    "      return integral/np.sum(fracused*pixwidth)\n",
    "    else:\n",
    "      return integral\n",
    "    \n",
    "# assume pixel edges are half-way between the central locations\n",
    "def simple_fracsum(wave, flux, c1, c2, mean=False):\n",
    "  \n",
    "    diff = np.array(wave.flat[1:] - wave.flat[:-1])\n",
    "    pixwidth = np.concatenate(([diff[0]], (diff[1:]+diff[:-1])/2., [diff[-1]]))\n",
    "\n",
    "    wavea = wave-pixwidth/2.\n",
    "    waveb = wave+pixwidth/2.\n",
    "   \n",
    "    return fracsum(wavea, waveb, flux, c1, c2, mean=mean)\n",
    "\n",
    "# check something simple\n",
    "def test():\n",
    "\n",
    "    wavea=np.arange(0,10)\n",
    "    waveb=wavea+1.\n",
    "    flux=np.ones_like(wavea)*2.\n",
    "    flux[3:7]=4.\n",
    "    c1 = 4.5\n",
    "    c2=8.\n",
    "    plt.clf()\n",
    "    v1 = fracsum(wavea, waveb, flux, c1, c2, check=True)\n",
    "\n",
    "    wave=np.arange(0,10)+0.5\n",
    "    v2 = simple_fracsum(wave,flux, c1, c2)\n",
    "    \n",
    "    assert(v1 == v2)\n",
    "    assert(v1 == 12.)\n",
    "  \n",
    "  \n",
    "# Lithium index\n",
    "def measure_li(wave, flux):\n",
    "\n",
    "    fcen = 6707.8 # 6707.76; 6707.91\n",
    "    # note iron at 6707.4\n",
    "    fwid = 2.\n",
    "    feature = [fcen-fwid/2.,fcen+fwid/2.]\n",
    "\n",
    "    feat = simple_fracsum(wave, flux, feature[0], feature[1], mean=True)\n",
    "\n",
    "    cont = simple_fracsum(wave, flux, 6710., 6712., mean=True)\n",
    "    \n",
    "    return feat/cont\n",
    "\n",
    "\n",
    "# H alpha EW     \n",
    "def measure_ha(wave, flux, trapsum=False):\n",
    "    \n",
    "    # feature region\n",
    "    fcen = 6562.8\n",
    "    fwid = 8.\n",
    "    feature = [fcen-fwid/2.,fcen+fwid/2.]\n",
    "    \n",
    "    m1 = simple_fracsum(wave, flux, 6500., 6550., mean=True)\n",
    "    m2 = simple_fracsum(wave, flux, 6575., 6623., mean=True)\n",
    "    pseudo = (m1+m2)/2.\n",
    "\n",
    "    ew = simple_fracsum(wave, 1.-flux/pseudo, feature[0], feature[1])\n",
    "    return ew"
   ]
  },
  {
   "cell_type": "code",
   "execution_count": 138,
   "metadata": {},
   "outputs": [],
   "source": [
    "ew = measure_ha(wave,flux)"
   ]
  },
  {
   "cell_type": "code",
   "execution_count": 139,
   "metadata": {},
   "outputs": [
    {
     "name": "stdout",
     "output_type": "stream",
     "text": [
      "0.08520776599926046\n"
     ]
    }
   ],
   "source": [
    "print(ew)"
   ]
  },
  {
   "cell_type": "code",
   "execution_count": null,
   "metadata": {},
   "outputs": [],
   "source": []
  }
 ],
 "metadata": {
  "kernelspec": {
   "display_name": "Python 3",
   "language": "python",
   "name": "python3"
  },
  "language_info": {
   "codemirror_mode": {
    "name": "ipython",
    "version": 3
   },
   "file_extension": ".py",
   "mimetype": "text/x-python",
   "name": "python",
   "nbconvert_exporter": "python",
   "pygments_lexer": "ipython3",
   "version": "3.7.4"
  }
 },
 "nbformat": 4,
 "nbformat_minor": 4
}
