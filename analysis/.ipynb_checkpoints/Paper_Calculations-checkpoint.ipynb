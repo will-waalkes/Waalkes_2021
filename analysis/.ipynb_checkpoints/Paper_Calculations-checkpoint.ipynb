{
 "cells": [
  {
   "cell_type": "code",
   "execution_count": 2,
   "metadata": {},
   "outputs": [],
   "source": [
    "%matplotlib inline\n",
    "import numpy as np\n",
    "import matplotlib.pyplot as plt\n",
    "import astropy.constants as c\n",
    "import astropy.units as u"
   ]
  },
  {
   "cell_type": "code",
   "execution_count": 3,
   "metadata": {},
   "outputs": [],
   "source": [
    "def Planck(lam,T):\n",
    "    \n",
    "    h = 6.626e-34\n",
    "    c = 299792458\n",
    "    k_B = 1.38064852e-23\n",
    "    A = (2*h*c**2)/(lam**5)\n",
    "    B = np.exp(h*c/(lam*k_B*T))\n",
    "    planck = A*1/(B-1)\n",
    "    \n",
    "    return planck"
   ]
  },
  {
   "cell_type": "code",
   "execution_count": 4,
   "metadata": {},
   "outputs": [],
   "source": [
    "def Equilibrium_Temp(AB, axis, tstar):\n",
    "    \n",
    "    Teq = (1-AB)**(0.25)*(2*axis)**(-0.5)*(tstar) \n",
    "    \n",
    "    return Teq"
   ]
  },
  {
   "cell_type": "code",
   "execution_count": 5,
   "metadata": {},
   "outputs": [],
   "source": [
    "def Insolation(axis, tstar):\n",
    "    \n",
    "    S = (tstar/5772)**4*(215/axis)**2\n",
    "    \n",
    "    return S"
   ]
  },
  {
   "cell_type": "code",
   "execution_count": 6,
   "metadata": {},
   "outputs": [],
   "source": [
    "def Mp_Chen(Re): # Chen & Kipping 2017\n",
    "    \n",
    "    Mp = 1.436*Re**1.7 # Rp in earth radii, this is for planets with R>1.23 R_earth\n",
    "    \n",
    "    return Mp"
   ]
  },
  {
   "cell_type": "code",
   "execution_count": 7,
   "metadata": {},
   "outputs": [],
   "source": [
    "def ESM(Teq,Teff,Rp_Rs,m_K): #Kempton et al 2018\n",
    "    \n",
    "    ESM = 4.29e6*Planck(7.5e-6,1.1*Teq)/Planck(7.5e-6,Teff)*Rp_Rs**2.0*10**(-m_K/5)\n",
    "    \n",
    "    return ESM"
   ]
  },
  {
   "cell_type": "code",
   "execution_count": 8,
   "metadata": {},
   "outputs": [],
   "source": [
    "def TSM(Re, Teq, mj, Rs, Me, scale_factor):\n",
    "\n",
    "    TSM = scale_factor * (Re**3*Teq)/(Me*Rs**2)*10**(-mj/5)\n",
    "    \n",
    "    return TSM"
   ]
  },
  {
   "cell_type": "code",
   "execution_count": 9,
   "metadata": {},
   "outputs": [],
   "source": [
    "def Escape_Velocity(Me,Re,Ms,a_Rs,Rs,Teq):\n",
    "    \n",
    "    # Mp in kg and Rp in m\n",
    "    \n",
    "    Rp = Re*c.R_earth\n",
    "    Mp = Me*c.M_earth\n",
    "    vesc = np.sqrt(2*c.G*Mp/Rp)\n",
    "    \n",
    "    return vesc"
   ]
  },
  {
   "cell_type": "code",
   "execution_count": 10,
   "metadata": {},
   "outputs": [],
   "source": [
    "def Thermal_Velocity(Ms,a_Rs,Rs,Teq):\n",
    "    \n",
    "    # This is the thermal velocity for a proton\n",
    "        \n",
    "    Ms = Ms*c.M_sun\n",
    "    r = a_Rs*Rs*c.R_sun\n",
    "    v_therm = np.sqrt(3*(c.k_B*1.1*Teq*u.K/c.m_p))\n",
    "    \n",
    "    return v_therm"
   ]
  },
  {
   "cell_type": "code",
   "execution_count": 11,
   "metadata": {},
   "outputs": [],
   "source": [
    "def tidal_circ(Period,Me,Ms,Rp_Rs,a_Rs,Q):\n",
    "    \n",
    "    # Period in whatever units, everything else unitless\n",
    "    Mp = Me*c.M_earth\n",
    "    Ms = Ms*c.M_sun\n",
    "    tau = 2*Period*Q/(63*np.pi)*(Mp/Ms)*(a_Rs/Rp_Rs)**5\n",
    "    \n",
    "    return tau/365/1e9 # years"
   ]
  },
  {
   "cell_type": "code",
   "execution_count": 12,
   "metadata": {},
   "outputs": [],
   "source": [
    "def luminosity(Teff,Rs):\n",
    "    \n",
    "    L = (Teff/5778)**4*(Rs)**2\n",
    "    \n",
    "    return L"
   ]
  },
  {
   "cell_type": "code",
   "execution_count": 13,
   "metadata": {},
   "outputs": [],
   "source": [
    "def rho_star(a_r,period):\n",
    "    \n",
    "    rho = (3*np.pi)/(c.G*((period*u.s)*24.0*60*60)**2)*(a_r)**3.0\n",
    "    \n",
    "    return rho # kg/m^3"
   ]
  },
  {
   "cell_type": "code",
   "execution_count": 14,
   "metadata": {},
   "outputs": [],
   "source": [
    "def semi_major_axis(Ms, period):\n",
    "    Ms = Ms*c.M_sun\n",
    "    a = ((c.G*Ms*((period*u.s)*24.0*60*60)**2)/(4*np.pi**2))**(1/3)\n",
    "    a = a/1.496e11*u.au/u.m\n",
    "    return a"
   ]
  },
  {
   "cell_type": "markdown",
   "metadata": {},
   "source": [
    "## TOI 122"
   ]
  },
  {
   "cell_type": "code",
   "execution_count": 14,
   "metadata": {},
   "outputs": [],
   "source": [
    "samples = np.load('TOI122_LCO_samples.dat.npy')\n",
    "A1,A2,A3,A4,A5,A7,A8,A9,B1,B2,B3,B4,B5,B7,B8,B9,t1,t2,t3,t4,t8, Rp_Rs, a_Rs, inc = samples\n",
    "\n",
    "M_s = np.random.normal(0.312,0.007,len(a_Rs))\n",
    "# Msun, from Mann+ 2019, calculated in Constrain_your_Mdwarf.ipynb\n",
    "\n",
    "R_s = np.random.normal(0.334,0.01,len(a_Rs))\n",
    "# Mann+ 2015\n",
    "\n",
    "Teff = np.random.normal(3403, 100, len(a_Rs))\n",
    "# K, from Mann+ 2015\n",
    "\n",
    "period = np.random.normal(5.078030, 0.000015, len(a_Rs))\n",
    "# days, from modeling the light curves and fitting a line\n",
    "\n",
    "a_in_AU = (M_s*(period/365.26)**2)**(1/3) #AU\n",
    "\n",
    "aRs_from_P = a_in_AU/R_s*(1/6.957e8)*(1.496e11)\n",
    "\n",
    "m_K = 10.771\n",
    "# from ExoFOP-TESS"
   ]
  },
  {
   "cell_type": "code",
   "execution_count": 32,
   "metadata": {},
   "outputs": [
    {
     "data": {
      "text/plain": [
       "array([23.9528886, 25.2400895, 26.6559659])"
      ]
     },
     "execution_count": 32,
     "metadata": {},
     "output_type": "execute_result"
    }
   ],
   "source": [
    "np.percentile(aRs_from_P,[16.,50.,84.])"
   ]
  },
  {
   "cell_type": "code",
   "execution_count": 15,
   "metadata": {},
   "outputs": [
    {
     "data": {
      "text/plain": [
       "array([7.65793621, 8.75385979, 9.97457243])"
      ]
     },
     "execution_count": 15,
     "metadata": {},
     "output_type": "execute_result"
    }
   ],
   "source": [
    "insolation = Insolation(axis = aRs_from_P, tstar=Teff)\n",
    "np.percentile(insolation, [16.,50.,84.])"
   ]
  },
  {
   "cell_type": "code",
   "execution_count": 16,
   "metadata": {},
   "outputs": [
    {
     "name": "stdout",
     "output_type": "stream",
     "text": [
      "7.115080211943929\n"
     ]
    }
   ],
   "source": [
    "rv_amp = 28.4329*(8.8/317.8)*np.sin(88.4*np.pi/180)*(0.312)**(-2/3)*(5.078030/365.26)**(-1/3)\n",
    "print(rv_amp)"
   ]
  },
  {
   "cell_type": "code",
   "execution_count": 18,
   "metadata": {},
   "outputs": [
    {
     "data": {
      "text/plain": [
       "array([4.85739253, 4.88467746, 4.91264467])"
      ]
     },
     "execution_count": 18,
     "metadata": {},
     "output_type": "execute_result"
    }
   ],
   "source": [
    "g = np.log10((c.G*M_s*c.M_sun/(R_s*c.R_sun)**2.0).value*100)\n",
    "np.percentile(g,[16.,50.,84.])"
   ]
  },
  {
   "cell_type": "code",
   "execution_count": 116,
   "metadata": {},
   "outputs": [
    {
     "name": "stdout",
     "output_type": "stream",
     "text": [
      "Stellar Density (kg/m3)\n"
     ]
    },
    {
     "data": {
      "text/plain": [
       "array([ 8633.33579117, 12766.59395378, 22253.04277632])"
      ]
     },
     "execution_count": 116,
     "metadata": {},
     "output_type": "execute_result"
    }
   ],
   "source": [
    "density_model_samples = rho_star(a_Rs,5.078030)\n",
    "\n",
    "print('Stellar Density (kg/m3)')\n",
    "np.percentile(density_model_samples, [16., 50., 84.])"
   ]
  },
  {
   "cell_type": "code",
   "execution_count": 117,
   "metadata": {},
   "outputs": [
    {
     "name": "stdout",
     "output_type": "stream",
     "text": [
      "Stellar Radius (Rsun)\n"
     ]
    },
    {
     "data": {
      "text/plain": [
       "array([0.27007419, 0.32513439, 0.37095714])"
      ]
     },
     "execution_count": 117,
     "metadata": {},
     "output_type": "execute_result"
    }
   ],
   "source": [
    "Mstar = Ms*c.M_sun #kg\n",
    "Rstar = (((3*Mstar)/(4*np.pi*density_model_samples))**(1/3))/c.R_sun\n",
    "print('Stellar Radius (Rsun)')\n",
    "np.percentile(Rstar, [16., 50., 84.])"
   ]
  },
  {
   "cell_type": "code",
   "execution_count": 123,
   "metadata": {},
   "outputs": [
    {
     "data": {
      "text/plain": [
       "array([0.00147464, 0.00155323, 0.00163187])"
      ]
     },
     "execution_count": 123,
     "metadata": {},
     "output_type": "execute_result"
    }
   ],
   "source": [
    "Mstar = Ms*c.M_sun #kg\n",
    "Rstar = (((3*Mstar)/(4*np.pi*density_model_samples))**(1/3))\n",
    "stellar_radius = Rs*c.R_sun/1.496e11*u.au/u.m\n",
    "np.percentile(stellar_radius, [16., 50., 84.])"
   ]
  },
  {
   "cell_type": "code",
   "execution_count": 126,
   "metadata": {},
   "outputs": [
    {
     "name": "stdout",
     "output_type": "stream",
     "text": [
      "Planet Radius (Re)\n"
     ]
    },
    {
     "data": {
      "text/plain": [
       "array([2.5531984 , 2.73095147, 2.91211846])"
      ]
     },
     "execution_count": 126,
     "metadata": {},
     "output_type": "execute_result"
    }
   ],
   "source": [
    "print('Planet Radius (Re)')\n",
    "Re = Rp_Rs*Rs*109.168\n",
    "np.percentile(Re, [16., 50., 84.])"
   ]
  },
  {
   "cell_type": "code",
   "execution_count": 128,
   "metadata": {},
   "outputs": [
    {
     "name": "stdout",
     "output_type": "stream",
     "text": [
      "Luminosity (L_sun)\n"
     ]
    },
    {
     "data": {
      "text/plain": [
       "array([0.01123444, 0.01274029, 0.01439211])"
      ]
     },
     "execution_count": 128,
     "metadata": {},
     "output_type": "execute_result"
    }
   ],
   "source": [
    "print('Luminosity (L_sun)')\n",
    "np.percentile(luminosity(Teff,Rs), [16., 50., 84.])"
   ]
  },
  {
   "cell_type": "code",
   "execution_count": 21,
   "metadata": {},
   "outputs": [
    {
     "name": "stdout",
     "output_type": "stream",
     "text": [
      "Teq (K)\n"
     ]
    },
    {
     "data": {
      "text/plain": [
       "333.0517345014227"
      ]
     },
     "execution_count": 21,
     "metadata": {},
     "output_type": "execute_result"
    }
   ],
   "source": [
    "print('Teq (K)')\n",
    "Equilibrium_Temp(AB=0.75,axis=26.1,tstar=3403)"
   ]
  },
  {
   "cell_type": "code",
   "execution_count": 22,
   "metadata": {},
   "outputs": [
    {
     "data": {
      "text/latex": [
       "$[3146.6354,~3295.0833,~3413.9787] \\; \\mathrm{\\frac{J^{1/2}}{kg^{1/2}}}$"
      ],
      "text/plain": [
       "<Quantity [3146.6354088 , 3295.08332859, 3413.97874776] J(1/2) / kg(1/2)>"
      ]
     },
     "execution_count": 22,
     "metadata": {},
     "output_type": "execute_result"
    }
   ],
   "source": [
    "therm = Thermal_Velocity(Ms=M_s,a_Rs=a_Rs,Rs=R_s,Teq=Equilibrium_Temp(AB=0.5,axis=a_Rs,tstar=Teff))\n",
    "np.percentile(therm,[16., 50., 84.])"
   ]
  },
  {
   "cell_type": "code",
   "execution_count": 140,
   "metadata": {},
   "outputs": [
    {
     "data": {
      "text/plain": [
       "array([16372.69459518, 20117.49832541, 23272.92201306])"
      ]
     },
     "execution_count": 140,
     "metadata": {},
     "output_type": "execute_result"
    }
   ],
   "source": [
    "esc = Escape_Velocity(Me=np.random.normal(8.8,3.0,len(a_Rs)),Re=2.72,Ms=M_s,a_Rs=a_Rs,Rs=R_s,\n",
    "                      Teq=Equilibrium_Temp(AB=0.5,axis=a_Rs,tstar=Teff))\n",
    "np.nanpercentile(esc,[16., 50., 84.])"
   ]
  },
  {
   "cell_type": "code",
   "execution_count": 141,
   "metadata": {},
   "outputs": [
    {
     "data": {
      "text/plain": [
       "array([5.12672553, 6.19090069, 7.24975448])"
      ]
     },
     "execution_count": 141,
     "metadata": {},
     "output_type": "execute_result"
    }
   ],
   "source": [
    "jeans = np.random.normal(20117,3300,10000)/np.random.normal(3250,150,10000)\n",
    "np.percentile(jeans,[16., 50., 84.])"
   ]
  },
  {
   "cell_type": "code",
   "execution_count": 23,
   "metadata": {},
   "outputs": [
    {
     "data": {
      "text/plain": [
       "1.5788693283717024"
      ]
     },
     "execution_count": 23,
     "metadata": {},
     "output_type": "execute_result"
    }
   ],
   "source": [
    "ESM(Teq=Equilibrium_Temp(AB=0.5,axis=26.1,tstar=3403),\n",
    "    Teff=3403,Rp_Rs=0.0748,m_K=10.771)"
   ]
  },
  {
   "cell_type": "code",
   "execution_count": 142,
   "metadata": {},
   "outputs": [
    {
     "data": {
      "text/plain": [
       "54.23636583798516"
      ]
     },
     "execution_count": 142,
     "metadata": {},
     "output_type": "execute_result"
    }
   ],
   "source": [
    "TSM(Re=2.72, Teq=425, mj=11.531 , Rs=0.334, Me=8.8, scale_factor=1.26)"
   ]
  },
  {
   "cell_type": "code",
   "execution_count": 143,
   "metadata": {},
   "outputs": [
    {
     "name": "stdout",
     "output_type": "stream",
     "text": [
      "Tidal Circularization Timescale (Gyr):\n"
     ]
    },
    {
     "data": {
      "text/plain": [
       "array([0.30540579, 0.58771958, 1.4842053 ])"
      ]
     },
     "execution_count": 143,
     "metadata": {},
     "output_type": "execute_result"
    }
   ],
   "source": [
    "print('Tidal Circularization Timescale (Gyr):')\n",
    "tide = tidal_circ(Period=5.078030,Me=8.8,Ms=M_s,\n",
    "           Rp_Rs=0.075,a_Rs=a_Rs,Q=1e4)\n",
    "np.percentile(tide, [16.,50.,84.])"
   ]
  },
  {
   "cell_type": "code",
   "execution_count": 144,
   "metadata": {},
   "outputs": [
    {
     "name": "stdout",
     "output_type": "stream",
     "text": [
      "Surface Gravity (m/s2):\n"
     ]
    },
    {
     "data": {
      "text/plain": [
       "11.656574394463666"
      ]
     },
     "execution_count": 144,
     "metadata": {},
     "output_type": "execute_result"
    }
   ],
   "source": [
    "print('Surface Gravity (m/s2):')\n",
    "9.8*8.8/(2.72**2)"
   ]
  },
  {
   "cell_type": "code",
   "execution_count": 32,
   "metadata": {},
   "outputs": [
    {
     "data": {
      "text/plain": [
       "array([10070.66980721, 11727.01673949, 13789.81483459])"
      ]
     },
     "execution_count": 32,
     "metadata": {},
     "output_type": "execute_result"
    }
   ],
   "source": [
    "# Mann Density\n",
    "mass = np.random.normal(0.312,0.05*0.312,10000)*c.M_sun\n",
    "radius = np.random.normal(0.334, 0.05*0.334, 10000)*c.R_sun\n",
    "density = mass/(4/3*np.pi*radius**3)\n",
    "np.percentile(density, [16.,50.,84.])"
   ]
  },
  {
   "cell_type": "markdown",
   "metadata": {},
   "source": [
    "## TOI 237"
   ]
  },
  {
   "cell_type": "code",
   "execution_count": 24,
   "metadata": {},
   "outputs": [],
   "source": [
    "samples = np.load('TOI237_LCO_samples.dat.npy')\n",
    "A1,A2,A3,A4,A5,A6,B1,B2,B3,B4,B5,B6,t1,t2,t3,t5,t6 ,Rp_Rs, a_Rs, inc = samples\n",
    "\n",
    "Ms = np.random.normal(0.179, 0.004, len(a_Rs))\n",
    "# Msun, from Mann+ 2019, calculated in Constrain_your_Mdwarf.ipynb\n",
    "\n",
    "Rs = np.random.normal(0.211,0.006,len(a_Rs))\n",
    "\n",
    "Teff = np.random.normal(3212, 100, len(a_Rs))\n",
    "# K, from Magellan & SALT spectra\n",
    "\n",
    "period = np.random.normal(5.436098, 0.000039, len(a_Rs)) # days\n",
    "# days, from modeling the light curves and fitting a line\n",
    "\n",
    "a_in_AU = (Ms*(period/365.26)**2)**(1/3) #AU\n",
    "\n",
    "aRs_from_P = a_in_AU/Rs*(1/6.957e8)*(1.496e11)\n",
    "\n",
    "m_K = 10.896\n",
    "# from ExoFOP-TESS"
   ]
  },
  {
   "cell_type": "code",
   "execution_count": 15,
   "metadata": {},
   "outputs": [],
   "source": [
    "Ms = np.random.normal(0.361, 0.008, 100000)\n",
    "# Msun, from Mann+ 2019, calculated in Constrain_your_Mdwarf.ipynb\n",
    "\n",
    "Rs = np.random.normal(0.377,0.011,100000)\n",
    "\n",
    "Teff = np.random.normal(3566, 100, 100000)\n",
    "# K, from Magellan & SALT spectra\n",
    "\n",
    "period = np.random.normal(18.7913430, 0.0004, 100000) # days\n",
    "# days, from modeling the light curves and fitting a line\n",
    "\n",
    "a_in_AU = (Ms*(period/365.26)**2)**(1/3) #AU\n",
    "\n",
    "aRs_from_P = a_in_AU/Rs*(1/6.957e8)*(1.496e11)"
   ]
  },
  {
   "cell_type": "code",
   "execution_count": 16,
   "metadata": {},
   "outputs": [
    {
     "data": {
      "text/plain": [
       "array([54.52839419, 56.16708328, 57.89757908])"
      ]
     },
     "execution_count": 16,
     "metadata": {},
     "output_type": "execute_result"
    }
   ],
   "source": [
    "np.percentile(aRs_from_P,[16.,50.,84.])"
   ]
  },
  {
   "cell_type": "code",
   "execution_count": 25,
   "metadata": {},
   "outputs": [
    {
     "data": {
      "text/plain": [
       "array([3.19241667, 3.66738344, 4.19896892])"
      ]
     },
     "execution_count": 25,
     "metadata": {},
     "output_type": "execute_result"
    }
   ],
   "source": [
    "insolation = Insolation(axis = aRs_from_P, tstar=Teff)\n",
    "np.percentile(insolation, [16.,50.,84.])"
   ]
  },
  {
   "cell_type": "code",
   "execution_count": 38,
   "metadata": {},
   "outputs": [
    {
     "name": "stdout",
     "output_type": "stream",
     "text": [
      "3.435380986448534\n"
     ]
    }
   ],
   "source": [
    "rv_amp = 28.4329*(3/317.8)*np.sin(89.5*np.pi/180)*(0.179)**(-2/3)*(5.436098/365.26)**(-1/3)\n",
    "print(rv_amp)"
   ]
  },
  {
   "cell_type": "code",
   "execution_count": 36,
   "metadata": {},
   "outputs": [
    {
     "data": {
      "text/plain": [
       "1.0"
      ]
     },
     "execution_count": 36,
     "metadata": {},
     "output_type": "execute_result"
    }
   ],
   "source": [
    "np.sin(np.pi/2)"
   ]
  },
  {
   "cell_type": "code",
   "execution_count": 26,
   "metadata": {},
   "outputs": [
    {
     "data": {
      "text/plain": [
       "array([5.01618788, 5.0423069 , 5.06899413])"
      ]
     },
     "execution_count": 26,
     "metadata": {},
     "output_type": "execute_result"
    }
   ],
   "source": [
    "g = np.log10((c.G*Ms*c.M_sun/(Rs*c.R_sun)**2.0).value*100)\n",
    "np.percentile(g,[16.,50.,84.])"
   ]
  },
  {
   "cell_type": "code",
   "execution_count": 147,
   "metadata": {},
   "outputs": [
    {
     "name": "stdout",
     "output_type": "stream",
     "text": [
      "Stellar Density (kg/m3)\n"
     ]
    },
    {
     "data": {
      "text/plain": [
       "array([16606.97458435, 25547.01983455, 30001.24880897])"
      ]
     },
     "execution_count": 147,
     "metadata": {},
     "output_type": "execute_result"
    }
   ],
   "source": [
    "density_model_samples = rho_star(a_Rs,period)\n",
    "print('Stellar Density (kg/m3)')\n",
    "np.percentile(density_model_samples, [16., 50., 84.])"
   ]
  },
  {
   "cell_type": "code",
   "execution_count": 153,
   "metadata": {},
   "outputs": [
    {
     "name": "stdout",
     "output_type": "stream",
     "text": [
      "Planet Radius (Re)\n"
     ]
    },
    {
     "data": {
      "text/plain": [
       "array([1.32137969, 1.4385532 , 1.56008086])"
      ]
     },
     "execution_count": 153,
     "metadata": {},
     "output_type": "execute_result"
    }
   ],
   "source": [
    "print('Planet Radius (Re)')\n",
    "Re = Rp_Rs*Rs*109.168\n",
    "np.percentile(Re, [16., 50., 84.])"
   ]
  },
  {
   "cell_type": "code",
   "execution_count": 93,
   "metadata": {},
   "outputs": [
    {
     "name": "stdout",
     "output_type": "stream",
     "text": [
      "Luminosity (L_sun)\n"
     ]
    },
    {
     "data": {
      "text/plain": [
       "array([0.00334203, 0.00397565, 0.00468605])"
      ]
     },
     "execution_count": 93,
     "metadata": {},
     "output_type": "execute_result"
    }
   ],
   "source": [
    "print('Luminosity (L_sun)')\n",
    "np.percentile(luminosity(Teff,Rs), [16., 50., 84.])"
   ]
  },
  {
   "cell_type": "code",
   "execution_count": 29,
   "metadata": {},
   "outputs": [
    {
     "name": "stdout",
     "output_type": "stream",
     "text": [
      "Teq (K)\n"
     ]
    },
    {
     "data": {
      "text/plain": [
       "388.3716192255596"
      ]
     },
     "execution_count": 29,
     "metadata": {},
     "output_type": "execute_result"
    }
   ],
   "source": [
    "print('Teq (K)')\n",
    "Equilibrium_Temp(AB=0,axis=34.2,tstar=3212)"
   ]
  },
  {
   "cell_type": "code",
   "execution_count": 155,
   "metadata": {},
   "outputs": [],
   "source": [
    "therm = Thermal_Velocity(Ms=Ms,a_Rs=a_Rs,Rs=Rs,\n",
    "                 Teq=Equilibrium_Temp(AB=0.5,axis=a_Rs,tstar=Teff))"
   ]
  },
  {
   "cell_type": "code",
   "execution_count": 156,
   "metadata": {},
   "outputs": [],
   "source": [
    "esc = Escape_Velocity(Me=np.random.normal(3.0,2.0,len(a_Rs)),Re=np.random.normal(1.44,0.12,len(a_Rs)),Ms=Ms,a_Rs=a_Rs,Rs=Rs,\n",
    "                Teq=Equilibrium_Temp(AB=0.5,axis=a_Rs,tstar=Teff))"
   ]
  },
  {
   "cell_type": "code",
   "execution_count": 158,
   "metadata": {},
   "outputs": [
    {
     "data": {
      "text/plain": [
       "array([3.71732847, 5.5449992 , 7.06979875])"
      ]
     },
     "execution_count": 158,
     "metadata": {},
     "output_type": "execute_result"
    }
   ],
   "source": [
    "np.nanpercentile((esc/therm),[16.,50.,84.])"
   ]
  },
  {
   "cell_type": "code",
   "execution_count": 99,
   "metadata": {},
   "outputs": [
    {
     "data": {
      "text/plain": [
       "0.40211435527845996"
      ]
     },
     "execution_count": 99,
     "metadata": {},
     "output_type": "execute_result"
    }
   ],
   "source": [
    "ESM(Teq=Equilibrium_Temp(AB=0.5,axis=34.2,tstar=3160),\n",
    "    Teff=3160,Rp_Rs=0.062,m_K=m_K)"
   ]
  },
  {
   "cell_type": "code",
   "execution_count": 100,
   "metadata": {},
   "outputs": [
    {
     "data": {
      "text/plain": [
       "8.401680876559114"
      ]
     },
     "execution_count": 100,
     "metadata": {},
     "output_type": "execute_result"
    }
   ],
   "source": [
    "TSM(Re=1.44, Teq=382, mj=11.74 , Rs=0.211, Me=2.6, scale_factor=0.19)"
   ]
  },
  {
   "cell_type": "code",
   "execution_count": 49,
   "metadata": {},
   "outputs": [
    {
     "name": "stdout",
     "output_type": "stream",
     "text": [
      "Tidal Circularization Timescale (Gyr):\n"
     ]
    },
    {
     "data": {
      "text/latex": [
       "$0.16765731 \\; \\mathrm{}$"
      ],
      "text/plain": [
       "<Quantity 0.16765731>"
      ]
     },
     "execution_count": 49,
     "metadata": {},
     "output_type": "execute_result"
    }
   ],
   "source": [
    "print('Tidal Circularization Timescale (Gyr):')\n",
    "tidal_circ(Period=5.436098,Me=2.6,Ms=0.179,\n",
    "           Rp_Rs=0.062,a_Rs=34.2,Q=500)"
   ]
  },
  {
   "cell_type": "code",
   "execution_count": 159,
   "metadata": {},
   "outputs": [
    {
     "name": "stdout",
     "output_type": "stream",
     "text": [
      "Surface Gravity (m/s2):\n"
     ]
    },
    {
     "data": {
      "text/plain": [
       "14.178240740740742"
      ]
     },
     "execution_count": 159,
     "metadata": {},
     "output_type": "execute_result"
    }
   ],
   "source": [
    "print('Surface Gravity (m/s2):')\n",
    "9.8*3.0/(1.44**2)"
   ]
  },
  {
   "cell_type": "code",
   "execution_count": 51,
   "metadata": {},
   "outputs": [
    {
     "data": {
      "text/plain": [
       "array([22677.36659202, 26414.01076269, 31079.35978546])"
      ]
     },
     "execution_count": 51,
     "metadata": {},
     "output_type": "execute_result"
    }
   ],
   "source": [
    "# Mann Density\n",
    "mass = np.random.normal(0.179,0.05*0.179,10000)*c.M_sun\n",
    "radius = np.random.normal(0.212, 0.05*0.212, 10000)*c.R_sun\n",
    "density = mass/(4/3*np.pi*radius**3)\n",
    "np.percentile(density, [16.,50.,84.])"
   ]
  },
  {
   "cell_type": "markdown",
   "metadata": {},
   "source": [
    "## Rotational Period from vsini"
   ]
  },
  {
   "cell_type": "code",
   "execution_count": null,
   "metadata": {},
   "outputs": [],
   "source": [
    "# R = 0.322*c.R_sun/1000*u.km/u.m\n",
    "# v = 6*u.km/u.s\n",
    "\n",
    "R = 0.214*c.R_sun/1000*u.km/u.m\n",
    "v = 7*u.km/u.s\n",
    "period = (2*np.pi*R/v) * (u.min/(60*u.s)) * (u.hour/(60*u.min)) * (u.day/(24*u.hour))\n",
    "print(period)"
   ]
  },
  {
   "cell_type": "code",
   "execution_count": null,
   "metadata": {},
   "outputs": [],
   "source": []
  }
 ],
 "metadata": {
  "kernelspec": {
   "display_name": "Python 3",
   "language": "python",
   "name": "python3"
  },
  "language_info": {
   "codemirror_mode": {
    "name": "ipython",
    "version": 3
   },
   "file_extension": ".py",
   "mimetype": "text/x-python",
   "name": "python",
   "nbconvert_exporter": "python",
   "pygments_lexer": "ipython3",
   "version": "3.7.4"
  }
 },
 "nbformat": 4,
 "nbformat_minor": 4
}
